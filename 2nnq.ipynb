{
 "cells": [
  {
   "cell_type": "code",
   "execution_count": 1,
   "id": "828196b8-cb83-43b9-8cf7-4bd10ca5b4d8",
   "metadata": {},
   "outputs": [],
   "source": [
    "from Bio.PDB import *\n",
    "import numpy as np\n",
    "import Box"
   ]
  },
  {
   "cell_type": "code",
   "execution_count": 2,
   "id": "ba420dcb-008b-48e0-9b0a-e60652eb83a9",
   "metadata": {},
   "outputs": [],
   "source": [
    "parser = PDBParser(PERMISSIVE = True, QUIET = False)\n",
    "data2nnq = parser.get_structure(\"2nnq\",\"2nnq.pdb\")\n",
    "resdues2nnq = list(\n",
    "    list(data2nnq.get_models())[0].get_chains())[0]\n",
    "ligandt4b = [r for r in resdues2nnq if r.get_resname()=='T4B'][0]"
   ]
  },
  {
   "cell_type": "code",
   "execution_count": 5,
   "id": "a4ef4d9e-f9f1-4927-8afc-6dc4d4b3be7d",
   "metadata": {},
   "outputs": [
    {
     "name": "stdout",
     "output_type": "stream",
     "text": [
      "Residues in pocket:\n",
      "<Residue PHE het=  resseq=16 icode= >\n",
      "<Residue ALA het=  resseq=33 icode= >\n",
      "<Residue ALA het=  resseq=36 icode= >\n",
      "<Residue PRO het=  resseq=38 icode= >\n",
      "<Residue MET het=  resseq=40 icode= >\n",
      "<Residue ILE het=  resseq=51 icode= >\n",
      "<Residue SER het=  resseq=53 icode= >\n",
      "<Residue SER het=  resseq=55 icode= >\n",
      "<Residue PHE het=  resseq=57 icode= >\n",
      "<Residue ILE het=  resseq=62 icode= >\n",
      "<Residue ALA het=  resseq=75 icode= >\n",
      "<Residue ASP het=  resseq=76 icode= >\n",
      "<Residue ARG het=  resseq=78 icode= >\n",
      "<Residue ILE het=  resseq=104 icode= >\n",
      "<Residue ARG het=  resseq=106 icode= >\n",
      "<Residue VAL het=  resseq=115 icode= >\n",
      "<Residue CYS het=  resseq=117 icode= >\n",
      "<Residue ARG het=  resseq=126 icode= >\n",
      "<Residue TYR het=  resseq=128 icode= >\n",
      "Box:\n",
      "    center_x = 4.546000242233276\n",
      "    center_y = 8.281999945640564\n",
      "    center_z = 16.65249991416931\n",
      "    size_x = 29.38200044631958\n",
      "    size_y = 27.37399983406067\n",
      "    size_z = 29.82099962234497\n",
      "CPU times: user 418 ms, sys: 129 ms, total: 548 ms\n",
      "Wall time: 430 ms\n"
     ]
    }
   ],
   "source": [
    "%%time\n",
    "Box.get_box_config('config.txt', resdues2nnq, ligandt4b,\n",
    "                   cutoff=4)"
   ]
  },
  {
   "cell_type": "code",
   "execution_count": null,
   "id": "34f09c2b-c4f4-43e7-b699-8857b1b4e1cf",
   "metadata": {},
   "outputs": [],
   "source": []
  }
 ],
 "metadata": {
  "kernelspec": {
   "display_name": "Python 3",
   "language": "python",
   "name": "python3"
  },
  "language_info": {
   "codemirror_mode": {
    "name": "ipython",
    "version": 3
   },
   "file_extension": ".py",
   "mimetype": "text/x-python",
   "name": "python",
   "nbconvert_exporter": "python",
   "pygments_lexer": "ipython3",
   "version": "3.8.6"
  }
 },
 "nbformat": 4,
 "nbformat_minor": 5
}
